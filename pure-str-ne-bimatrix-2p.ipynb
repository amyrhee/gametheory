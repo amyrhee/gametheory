{
 "cells": [
  {
   "cell_type": "code",
   "execution_count": 24,
   "id": "8def4368",
   "metadata": {},
   "outputs": [],
   "source": [
    "# Finding pure strategy NE in an (n x n) 2 player bimatrix game\n",
    "import numpy as np\n",
    "\n",
    "class bimatrix:\n",
    "    def __init__(self, row_payoffs , col_payoffs):\n",
    "        self.mat_r = np.array(row_payoffs)\n",
    "        self.mat_c = np.array(col_payoffs)\n",
    "        self.n_str = len(row_payoffs)\n",
    "    \n",
    "    def pure_ne(self):\n",
    "        max_r = np.zeros((self.n_str,1))\n",
    "        ind_r = np.zeros((self.n_str,2))\n",
    "        \n",
    "        max_c = np.zeros((self.n_str,1))\n",
    "        ind_c = np.zeros((self.n_str,2))\n",
    "        \n",
    "        pure_ne = []\n",
    "        \n",
    "        for i in range(self.n_str):\n",
    "            max_r[i] = np.max(self.mat_r[:,i])\n",
    "            ind_r[i] = np.argmax(self.mat_r[:,i]), i\n",
    "            \n",
    "            max_c[i] = np.max(self.mat_c[i,:])\n",
    "            ind_c[i] = i, np.argmax(self.mat_c[i,:])\n",
    "            \n",
    "            if (ind_r[i,:] == ind_c[i,:]).all() == True:\n",
    "                pure_ne.append(ind_r[i,:])\n",
    "        self.pure_ne = pure_ne\n",
    "        return pure_ne\n",
    "    \n",
    "    def pure_ne_payoffs(self):\n",
    "        big_mat = np.dstack(((self.mat_r, self.mat_c)))\n",
    "        \n",
    "        ne_payoffs = []\n",
    "        \n",
    "        for i in range(len(self.pure_ne)):\n",
    "            str_ind = list(map(int, self.pure_ne[i]))\n",
    "            ne_payoffs.append(big_mat[str_ind[0], str_ind[1]])\n",
    "        \n",
    "        self.ne_payoffs = ne_payoffs\n",
    "        return ne_payoffs"
   ]
  },
  {
   "cell_type": "code",
   "execution_count": 23,
   "id": "2987965b",
   "metadata": {},
   "outputs": [
    {
     "name": "stdout",
     "output_type": "stream",
     "text": [
      "The pure NE are the following strategy profiles (row pl. strategy index, column pl. strategy index):  [array([1., 1.]), array([2., 2.])]\n",
      "The respective payoffs are:  [array([1, 5]), array([5, 1])]\n"
     ]
    }
   ],
   "source": [
    "# Example of 3 x 3 game\n",
    "\n",
    "mat_r = np.array([[10, 0, 0], [6, 1, -1], [12, -1, 5]])\n",
    "mat_c = np.array([[10, 6, 12], [0, 5, -1], [0, -1, 1]])\n",
    "\n",
    "gamma = bimatrix(mat_r, mat_c)\n",
    "\n",
    "# Assuming that we've enumerated the strategies from top (0) to bottom (n) for the row player, and left (0) to right (n) for the column player\n",
    "print('The pure NE are the following strategy profiles (row pl. strategy index, column pl. strategy index): ', \n",
    "      gamma.pure_ne())\n",
    "\n",
    "print('The respective payoffs are: ', gamma.pure_ne_payoffs())\n"
   ]
  }
 ],
 "metadata": {
  "kernelspec": {
   "display_name": "Python 3 (ipykernel)",
   "language": "python",
   "name": "python3"
  },
  "language_info": {
   "codemirror_mode": {
    "name": "ipython",
    "version": 3
   },
   "file_extension": ".py",
   "mimetype": "text/x-python",
   "name": "python",
   "nbconvert_exporter": "python",
   "pygments_lexer": "ipython3",
   "version": "3.9.12"
  }
 },
 "nbformat": 4,
 "nbformat_minor": 5
}
